{
  "nbformat": 4,
  "nbformat_minor": 0,
  "metadata": {
    "colab": {
      "provenance": []
    },
    "kernelspec": {
      "name": "python3",
      "display_name": "Python 3"
    },
    "language_info": {
      "name": "python"
    }
  },
  "cells": [
    {
      "cell_type": "code",
      "execution_count": null,
      "metadata": {
        "id": "AszwNwzJclhQ"
      },
      "outputs": [],
      "source": [
        "key=\"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\""
      ]
    },
    {
      "cell_type": "code",
      "source": [
        "from openai import OpenAI"
      ],
      "metadata": {
        "id": "J1XIvNVreyzn"
      },
      "execution_count": null,
      "outputs": []
    },
    {
      "cell_type": "code",
      "source": [
        "client = OpenAI(\n",
        "  base_url=\"https://openrouter.ai/api/v1\",\n",
        "  api_key=key,\n",
        ")\n",
        "\n",
        "completion = client.chat.completions.create(\n",
        "  extra_headers={\n",
        "    \"HTTP-Referer\": \"<YOUR_SITE_URL>\", # Optional. Site URL for rankings on openrouter.ai.\n",
        "    \"X-Title\": \"<YOUR_SITE_NAME>\", # Optional. Site title for rankings on openrouter.ai.\n",
        "  },\n",
        "  extra_body={},\n",
        "  model=\"deepseek/deepseek-r1-distill-qwen-14b:free\",\n",
        "  messages=[\n",
        "    {\n",
        "      \"role\": \"user\",\n",
        "      \"content\": \"What is Generative AI?\"\n",
        "    }\n",
        "  ]\n",
        ")\n",
        "print(completion.choices[0].message.content)"
      ],
      "metadata": {
        "colab": {
          "base_uri": "https://localhost:8080/"
        },
        "id": "r8SnJ65WevVc",
        "outputId": "cd74c1fb-67d5-477e-aa85-93d2c9eefc47"
      },
      "execution_count": null,
      "outputs": [
        {
          "output_type": "stream",
          "name": "stdout",
          "text": [
            "Generative AI refers to a subset of artificial intelligence technologies that are designed to create or generate new content or data, such as text, images, audio, or even code. These systems use advanced algorithms, particularly those based on deep learning and neural networks, to produce outputs that are often indistinguishable from those created by humans.\n",
            "\n",
            "### Key Characteristics of Generative AI:\n",
            "1. **Autonomous Creation**: The ability to generate original content without being explicitly programmed for each output.\n",
            "2. **Learning from Data**: These systems are typically trained on large datasets to learn patterns, which they then use to create new content.\n",
            "3. **Variety of Outputs**: Generative AI can produce different forms of content, including text, images, music, and more.\n",
            "4. **Real-Time Generation**: Many generative AI models can produce outputs in real-time, making them useful for dynamic applications.\n",
            "\n",
            "### Common Techniques:\n",
            "- **Neural Networks**: Deep learning models, such as Recurrent Neural Networks (RNNs) and Convolutional Neural Networks (CNNs), are often used in generative AI.\n",
            "- **Generative Adversarial Networks (GANs)**: A popular technique where two neural networks, a generator and a discriminator, compete to improve the generator's output.\n",
            "- **Transformer Models**: Such as GPT (Generative Pre-trained Transformer), which has been widely used for generating text.\n",
            "- **Variational Autoencoders (VAEs)**: A statistical model that can generate new data points from learned latent space representations.\n",
            "\n",
            "### Applications of Generative AI:\n",
            "1. **Content Creation**: Generating articles, stories, poems, and other text-based content.\n",
            "2. **Art and Design**: Creating images, paintings, and other visual art.\n",
            "3. **Music and Audio**: Composing music, generating sound effects, and other audio content.\n",
            "4. **Data Augmentation**: Enhancing datasets by generating synthetic data, which is useful in training other AI models.\n",
            "5. **Simulation and Gaming**: Generating game levels, characters, and scenarios in real-time.\n",
            "6. **Marketing and Advertising**: Creating personalized content for campaigns.\n",
            "\n",
            "### Ethical Considerations:\n",
            "- **Ethics and Bias**: Generative AI can inherit biases from its training data, which may lead to unfair or harmful outputs.\n",
            "- **Misuse**: There are concerns about the potential misuse of generative AI for creating deepfakes, phishing, and other malicious activities.\n",
            "- **Intellectual Property**: Questions about the ownership and rights of AI-generated content.\n",
            "\n",
            "### Examples of Generative AI Tools:\n",
            "- **DALL·E**: Developed by OpenAI, it generates images from text descriptions.\n",
            "- **MidJourney**: A popular AI tool for generating images from text prompts.\n",
            "- **Jukedeck**: An AI tool for generating music.\n",
            "- **GPT Series**: (GPT-2, GPT-3, GPT-4) Developed by OpenAI, capable of generating human-like text.\n",
            "\n",
            "Generative AI is a rapidly evolving field with numerous applications across industries, but it also raises important ethical and technical challenges that need to be addressed.\n"
          ]
        }
      ]
    },
    {
      "cell_type": "code",
      "source": [],
      "metadata": {
        "id": "40CCbs35gJvZ"
      },
      "execution_count": null,
      "outputs": []
    }
  ]
}